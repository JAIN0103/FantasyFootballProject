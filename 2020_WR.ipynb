{
  "nbformat": 4,
  "nbformat_minor": 0,
  "metadata": {
    "colab": {
      "name": "2020_WR",
      "provenance": []
    },
    "kernelspec": {
      "name": "python3",
      "display_name": "Python 3"
    },
    "language_info": {
      "name": "python"
    }
  },
  "cells": [
    {
      "cell_type": "code",
      "metadata": {
        "id": "dAiXjFoOTUKG"
      },
      "source": [
        "import tensorflow as tf\n",
        "from tensorflow import keras\n",
        "import pandas as pd\n",
        "model = tf.keras.models.load_model('/content/Newest_Accurate_WR_Model.h5')"
      ],
      "execution_count": null,
      "outputs": []
    },
    {
      "cell_type": "code",
      "metadata": {
        "colab": {
          "base_uri": "https://localhost:8080/"
        },
        "id": "2lIDLGbYTr4U",
        "outputId": "68865497-179d-4af9-a44b-8b222487ae34"
      },
      "source": [
        "df = pd.read_excel('2020_WR_Data.xlsx')\n",
        "print(df['Player'])\n",
        "df = df.drop(['Player'], axis=1)\n",
        "df['5_x'] = df['5_x'].replace(',','',regex=True)\n",
        "df['4_y'] = df['4_y'].replace(',','',regex=True)\n",
        "df = df.astype(float)\n",
        "df.pop('Following_Year_PPG')\n",
        "print(df)\n",
        "x=1"
      ],
      "execution_count": null,
      "outputs": [
        {
          "output_type": "stream",
          "text": [
            "0       2020 davante adams\n",
            "1         2020 tyreek hill\n",
            "2        2020 stefon diggs\n",
            "3     2020 deandre hopkins\n",
            "4       2020 calvin ridley\n",
            "              ...         \n",
            "62    2020 rashard higgins\n",
            "63        2020 david moore\n",
            "64      2020 antonio brown\n",
            "65     2020 travis fulgham\n",
            "66       2020 damiere byrd\n",
            "Name: Player, Length: 67, dtype: object\n",
            "     2_x    3_x    4_x     5_x   6_x   7_x  ...    4_y  5_y   6_y  7_y  8_y  9_y\n",
            "0   14.0  115.0  149.0  1374.0  11.9  56.0  ...    0.0  0.0   0.0  0.0  1.0  1.0\n",
            "1   15.0   87.0  135.0  1276.0  14.7  75.0  ...  123.0  9.5  32.0  2.0  1.0  0.0\n",
            "2   16.0  127.0  166.0  1535.0  12.1  55.0  ...    1.0  1.0   1.0  0.0  0.0  0.0\n",
            "3   16.0  115.0  160.0  1407.0  12.2  60.0  ...    1.0  1.0   1.0  0.0  3.0  2.0\n",
            "4   15.0   90.0  143.0  1374.0  15.3  63.0  ...    1.0  0.2   8.0  0.0  1.0  1.0\n",
            "..   ...    ...    ...     ...   ...   ...  ...    ...  ...   ...  ...  ...  ...\n",
            "62  13.0   37.0   52.0   599.0  16.2  43.0  ...    0.0  0.0   0.0  0.0  3.0  0.0\n",
            "63  16.0   35.0   47.0   417.0  11.9  57.0  ...   61.0  7.6  15.0  0.0  1.0  0.0\n",
            "64   8.0   45.0   62.0   483.0  10.7  46.0  ...   -2.0 -1.0   1.0  0.0  0.0  0.0\n",
            "65  13.0   38.0   67.0   539.0  14.2  42.0  ...    0.0  0.0   0.0  0.0  0.0  0.0\n",
            "66  16.0   47.0   77.0   604.0  12.9  42.0  ...   15.0  7.5  11.0  0.0  3.0  0.0\n",
            "\n",
            "[67 rows x 15 columns]\n"
          ],
          "name": "stdout"
        }
      ]
    },
    {
      "cell_type": "code",
      "metadata": {
        "colab": {
          "base_uri": "https://localhost:8080/"
        },
        "id": "Wy-6g70qTr-U",
        "outputId": "35c793df-1a94-417f-c525-278f8dc02adf"
      },
      "source": [
        "model.predict(df)\n",
        "result_df = pd.read_excel('2020_WR_Data.xlsx')\n",
        "for x in range(len(result_df)):\n",
        "  y = model.predict([df[x:x+1]])\n",
        "  result_df.loc[x,'Following_Year_PPG'] = y[0]\n",
        "print(result_df)\n",
        "result_df.to_excel('2020_WR_With_PPG.xlsx')"
      ],
      "execution_count": null,
      "outputs": [
        {
          "output_type": "stream",
          "text": [
            "                  Player  Following_Year_PPG  2_x  3_x  ...  6_y 7_y  8_y  9_y\n",
            "0     2020 davante adams           19.615305   14  115  ...    0   0    1    1\n",
            "1       2020 tyreek hill           18.218479   15   87  ...   32   2    1    0\n",
            "2      2020 stefon diggs           22.317858   16  127  ...    1   0    0    0\n",
            "3   2020 deandre hopkins           21.573761   16  115  ...    1   0    3    2\n",
            "4     2020 calvin ridley           21.029339   15   90  ...    8   0    1    1\n",
            "..                   ...                 ...  ...  ...  ...  ...  ..  ...  ...\n",
            "62  2020 rashard higgins           11.449699   13   37  ...    0   0    3    0\n",
            "63      2020 david moore            8.912881   16   35  ...   15   0    1    0\n",
            "64    2020 antonio brown           10.709044    8   45  ...    1   0    0    0\n",
            "65   2020 travis fulgham           10.423895   13   38  ...    0   0    0    0\n",
            "66     2020 damiere byrd           12.434384   16   47  ...   11   0    3    0\n",
            "\n",
            "[67 rows x 17 columns]\n"
          ],
          "name": "stdout"
        }
      ]
    }
  ]
}