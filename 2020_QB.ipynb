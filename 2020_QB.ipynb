{
  "nbformat": 4,
  "nbformat_minor": 0,
  "metadata": {
    "colab": {
      "name": "2020_QB",
      "provenance": []
    },
    "kernelspec": {
      "name": "python3",
      "display_name": "Python 3"
    },
    "language_info": {
      "name": "python"
    }
  },
  "cells": [
    {
      "cell_type": "code",
      "metadata": {
        "id": "A4lZcpm-IGet"
      },
      "source": [
        "import tensorflow as tf\n",
        "from tensorflow import keras\n",
        "import pandas as pd\n",
        "model = tf.keras.models.load_model('/content/Newest_Accurate_QB_Model.h5')"
      ],
      "execution_count": null,
      "outputs": []
    },
    {
      "cell_type": "code",
      "metadata": {
        "colab": {
          "base_uri": "https://localhost:8080/"
        },
        "id": "4f_WnK63I1B9",
        "outputId": "0f79cb90-88b4-4d38-a2b6-d1247325cedf"
      },
      "source": [
        "df = pd.read_excel('2020_QB_Data.xlsx')\n",
        "print(df['Player'])\n",
        "df = df.drop(['Player'], axis=1)\n",
        "df['7_x'] = df['7_x'].replace(',','',regex=True)\n",
        "df['4_y'] = df['4_y'].replace(',','',regex=True)\n",
        "df = df.astype(float)\n",
        "df.pop('Following_Year_PPG')\n",
        "print(df)\n",
        "x=1"
      ],
      "execution_count": null,
      "outputs": [
        {
          "output_type": "stream",
          "text": [
            "0          2020 josh allen qb\n",
            "1           2020 kyler murray\n",
            "2          2020 aaron rodgers\n",
            "3        2020 patrick mahomes\n",
            "4         2020 deshaun watson\n",
            "5         2020 russell wilson\n",
            "6         2020 ryan tannehill\n",
            "7              2020 tom brady\n",
            "8         2020 justin herbert\n",
            "9          2020 lamar jackson\n",
            "10          2020 kirk cousins\n",
            "11             2020 matt ryan\n",
            "12            2020 derek carr\n",
            "13    2020 ben roethlisberger\n",
            "14            2020 cam newton\n",
            "15      2020 matthew stafford\n",
            "16        2020 baker mayfield\n",
            "17            2020 jared goff\n",
            "18     2020 teddy bridgewater\n",
            "19         2020 philip rivers\n",
            "20            2020 drew brees\n",
            "21          2020 carson wentz\n",
            "22             2020 drew lock\n",
            "23          2020 daniel jones\n",
            "24            2020 joe burrow\n",
            "25       2020 gardner minshew\n",
            "26        2020 mitch trubisky\n",
            "27      2020 ryan fitzpatrick\n",
            "28           2020 sam darnold\n",
            "29           2020 andy dalton\n",
            "30        2020 tua tagovailoa\n",
            "31          2020 dak prescott\n",
            "32          2020 nick mullens\n",
            "Name: Player, dtype: object\n",
            "     2_x    3_x    4_x    5_x   6_x     7_x  ...     4_y  5_y   6_y   7_y   8_y  9_y\n",
            "0   16.0  107.2  396.0  572.0  69.2  4544.0  ...   421.0  4.1  24.0   8.0   9.0  6.0\n",
            "1   16.0   94.3  375.0  558.0  67.2  3971.0  ...   819.0  6.2  48.0  11.0   9.0  4.0\n",
            "2   16.0  121.5  372.0  526.0  70.7  4299.0  ...   149.0  3.9  14.0   3.0   4.0  2.0\n",
            "3   15.0  108.2  390.0  588.0  66.3  4740.0  ...   308.0  5.0  24.0   2.0   5.0  2.0\n",
            "4   16.0  112.4  382.0  544.0  70.2  4823.0  ...   444.0  4.9  16.0   3.0   8.0  3.0\n",
            "5   16.0  105.1  384.0  558.0  68.8  4212.0  ...   513.0  6.2  38.0   2.0   7.0  4.0\n",
            "6   16.0  106.5  315.0  481.0  65.5  3819.0  ...   266.0  6.2  45.0   7.0   6.0  1.0\n",
            "7   16.0  102.2  401.0  610.0  65.7  4633.0  ...     6.0  0.2   4.0   3.0   4.0  1.0\n",
            "8   15.0   98.3  396.0  595.0  66.6  4336.0  ...   234.0  4.3  31.0   5.0   8.0  1.0\n",
            "9   15.0   99.3  242.0  376.0  64.4  2757.0  ...  1005.0  6.3  50.0   7.0  10.0  4.0\n",
            "10  16.0  105.0  349.0  516.0  67.6  4265.0  ...   156.0  4.9  16.0   1.0   9.0  5.0\n",
            "11  16.0   93.3  407.0  626.0  65.0  4581.0  ...    92.0  3.2  16.0   2.0   6.0  3.0\n",
            "12  16.0  101.4  348.0  517.0  67.3  4103.0  ...   140.0  3.6  18.0   3.0  11.0  8.0\n",
            "13  15.0   94.1  399.0  608.0  65.6  3803.0  ...    11.0  0.4  11.0   0.0   5.0  1.0\n",
            "14  15.0   82.9  242.0  368.0  65.8  2657.0  ...   592.0  4.3  49.0  12.0   6.0  1.0\n",
            "15  16.0   96.3  339.0  528.0  64.2  4084.0  ...   112.0  3.9  17.0   0.0   2.0  1.0\n",
            "16  16.0   95.9  305.0  486.0  62.8  3563.0  ...   165.0  3.1  28.0   1.0   8.0  4.0\n",
            "17  15.0   90.0  370.0  552.0  67.0  3952.0  ...    99.0  1.9  10.0   4.0   7.0  4.0\n",
            "18  15.0   92.1  340.0  492.0  69.1  3733.0  ...   279.0  5.3  18.0   5.0   6.0  3.0\n",
            "19  16.0   97.0  369.0  543.0  68.0  4169.0  ...    -8.0 -0.4   3.0   0.0   2.0  1.0\n",
            "20  12.0  106.4  275.0  390.0  70.5  2942.0  ...    -2.0 -0.1   3.0   2.0   6.0  2.0\n",
            "21  12.0   72.8  251.0  437.0  57.4  2620.0  ...   276.0  5.3  40.0   5.0  10.0  4.0\n",
            "22  13.0   75.4  254.0  443.0  57.3  2933.0  ...   160.0  3.6  16.0   3.0   8.0  3.0\n",
            "23  14.0   80.4  280.0  448.0  62.5  2943.0  ...   423.0  6.5  80.0   1.0  11.0  6.0\n",
            "24  10.0   89.8  264.0  404.0  65.3  2688.0  ...   142.0  3.8  23.0   3.0   9.0  4.0\n",
            "25   9.0   95.9  216.0  327.0  66.1  2259.0  ...   153.0  5.3  16.0   1.0   5.0  4.0\n",
            "26  10.0   93.5  199.0  297.0  67.0  2055.0  ...   195.0  5.9  45.0   1.0   6.0  2.0\n",
            "27   9.0   95.6  183.0  267.0  68.5  2091.0  ...   151.0  5.0  17.0   2.0   2.0  0.0\n",
            "28  12.0   72.7  217.0  364.0  59.6  2208.0  ...   217.0  5.9  46.0   2.0   4.0  2.0\n",
            "29  11.0   87.3  216.0  333.0  64.9  2170.0  ...   114.0  4.1  13.0   0.0   2.0  1.0\n",
            "30  10.0   87.1  186.0  290.0  64.1  1814.0  ...   109.0  3.0  17.0   3.0   1.0  1.0\n",
            "31   5.0   99.6  151.0  222.0  68.0  1856.0  ...    93.0  5.2  12.0   3.0   3.0  3.0\n",
            "32  10.0   84.1  211.0  326.0  64.7  2437.0  ...     8.0  0.9   7.0   0.0   6.0  4.0\n",
            "\n",
            "[33 rows x 18 columns]\n"
          ],
          "name": "stdout"
        }
      ]
    },
    {
      "cell_type": "code",
      "metadata": {
        "colab": {
          "base_uri": "https://localhost:8080/"
        },
        "id": "0X2rgR5JIrcQ",
        "outputId": "2febfd9e-5443-48ec-fc48-fe4681556cae"
      },
      "source": [
        "model.predict(df)\n",
        "result_df = pd.read_excel('2020_QB_Data.xlsx')\n",
        "for x in range(len(result_df)):\n",
        "  y = model.predict([df[x:x+1]])\n",
        "  result_df.loc[x,'Following_Year_PPG'] = y[0]\n",
        "print(result_df)\n",
        "result_df.to_excel('2020_QB_With_PPG.xlsx')"
      ],
      "execution_count": null,
      "outputs": [
        {
          "output_type": "stream",
          "text": [
            "                     Player  Following_Year_PPG  2_x    3_x  ...  6_y  7_y  8_y 9_y\n",
            "0        2020 josh allen qb           20.564751   16  107.2  ...   24    8    9   6\n",
            "1         2020 kyler murray           22.065046   16   94.3  ...   48   11    9   4\n",
            "2        2020 aaron rodgers           19.929922   16  121.5  ...   14    3    4   2\n",
            "3      2020 patrick mahomes           20.017744   15  108.2  ...   24    2    5   2\n",
            "4       2020 deshaun watson           22.581242   16  112.4  ...   16    3    8   3\n",
            "5       2020 russell wilson           21.891756   16  105.1  ...   38    2    7   4\n",
            "6       2020 ryan tannehill           20.032255   16  106.5  ...   45    7    6   1\n",
            "7            2020 tom brady           17.876808   16  102.2  ...    4    3    4   1\n",
            "8       2020 justin herbert           19.630533   15   98.3  ...   31    5    8   1\n",
            "9        2020 lamar jackson           21.460772   15   99.3  ...   50    7   10   4\n",
            "10        2020 kirk cousins           20.066236   16  105.0  ...   16    1    9   5\n",
            "11           2020 matt ryan           19.003416   16   93.3  ...   16    2    6   3\n",
            "12          2020 derek carr           19.735750   16  101.4  ...   18    3   11   8\n",
            "13  2020 ben roethlisberger           16.472633   15   94.1  ...   11    0    5   1\n",
            "14          2020 cam newton           20.700493   15   82.9  ...   49   12    6   1\n",
            "15    2020 matthew stafford           18.737579   16   96.3  ...   17    0    2   1\n",
            "16      2020 baker mayfield           18.487644   16   95.9  ...   28    1    8   4\n",
            "17          2020 jared goff           18.103752   15   90.0  ...   10    4    7   4\n",
            "18   2020 teddy bridgewater           19.357452   15   92.1  ...   18    5    6   3\n",
            "19       2020 philip rivers           18.340128   16   97.0  ...    3    0    2   1\n",
            "20          2020 drew brees           17.848688   12  106.4  ...    3    2    6   2\n",
            "21        2020 carson wentz           17.022934   12   72.8  ...   40    5   10   4\n",
            "22           2020 drew lock           14.965337   13   75.4  ...   16    3    8   3\n",
            "23        2020 daniel jones           21.884232   14   80.4  ...   80    1   11   6\n",
            "24          2020 joe burrow           17.638046   10   89.8  ...   23    3    9   4\n",
            "25     2020 gardner minshew           17.119291    9   95.9  ...   16    1    5   4\n",
            "26      2020 mitch trubisky           18.531073   10   93.5  ...   45    1    6   2\n",
            "27    2020 ryan fitzpatrick           17.197599    9   95.6  ...   17    2    2   0\n",
            "28         2020 sam darnold           17.065977   12   72.7  ...   46    2    4   2\n",
            "29         2020 andy dalton           16.008923   11   87.3  ...   13    0    2   1\n",
            "30      2020 tua tagovailoa           15.718876   10   87.1  ...   17    3    1   1\n",
            "31        2020 dak prescott           16.856947    5   99.6  ...   12    3    3   3\n",
            "32        2020 nick mullens           16.146652   10   84.1  ...    7    0    6   4\n",
            "\n",
            "[33 rows x 20 columns]\n"
          ],
          "name": "stdout"
        }
      ]
    }
  ]
}