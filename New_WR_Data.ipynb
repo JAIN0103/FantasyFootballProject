{
  "nbformat": 4,
  "nbformat_minor": 0,
  "metadata": {
    "colab": {
      "name": "New_WR_Data",
      "provenance": []
    },
    "kernelspec": {
      "name": "python3",
      "display_name": "Python 3"
    },
    "language_info": {
      "name": "python"
    }
  },
  "cells": [
    {
      "cell_type": "code",
      "metadata": {
        "id": "B9_pgXsUFE20"
      },
      "source": [
        "import pandas as pd\n",
        "import numpy as np\n",
        "\n",
        "pd.set_option('display.max_rows', 500)\n",
        "pd.set_option('display.max_columns', 500)\n",
        "pd.set_option('display.width', 150)\n",
        "df = pd.read_excel('2013-2019_WR_Data.xlsx')"
      ],
      "execution_count": null,
      "outputs": []
    },
    {
      "cell_type": "code",
      "metadata": {
        "id": "AgKAE0TWFrEV"
      },
      "source": [
        "df = df.drop(['Player'], axis=1)\n",
        "df = df.iloc[np.random.permutation(len(df))]"
      ],
      "execution_count": null,
      "outputs": []
    },
    {
      "cell_type": "code",
      "metadata": {
        "id": "pLAzvTf3FrHX"
      },
      "source": [
        "train_df = df[:160]\n",
        "test_df = df[160:]"
      ],
      "execution_count": null,
      "outputs": []
    },
    {
      "cell_type": "code",
      "metadata": {
        "colab": {
          "base_uri": "https://localhost:8080/"
        },
        "id": "h398_VdLFrKq",
        "outputId": "5d41d635-e702-41d3-d1f2-af9dafc7a297"
      },
      "source": [
        "train_df['5_x'] = train_df['5_x'].replace(',','',regex=True)\n",
        "train_df['4_y'] = train_df['4_y'].replace(',','',regex=True)\n",
        "test_df['5_x'] = test_df['5_x'].replace(',','',regex=True)\n",
        "test_df['4_y'] = test_df['4_y'].replace(',','',regex=True)"
      ],
      "execution_count": null,
      "outputs": [
        {
          "output_type": "stream",
          "text": [
            "/usr/local/lib/python3.7/dist-packages/ipykernel_launcher.py:1: SettingWithCopyWarning: \n",
            "A value is trying to be set on a copy of a slice from a DataFrame.\n",
            "Try using .loc[row_indexer,col_indexer] = value instead\n",
            "\n",
            "See the caveats in the documentation: https://pandas.pydata.org/pandas-docs/stable/user_guide/indexing.html#returning-a-view-versus-a-copy\n",
            "  \"\"\"Entry point for launching an IPython kernel.\n",
            "/usr/local/lib/python3.7/dist-packages/ipykernel_launcher.py:2: SettingWithCopyWarning: \n",
            "A value is trying to be set on a copy of a slice from a DataFrame.\n",
            "Try using .loc[row_indexer,col_indexer] = value instead\n",
            "\n",
            "See the caveats in the documentation: https://pandas.pydata.org/pandas-docs/stable/user_guide/indexing.html#returning-a-view-versus-a-copy\n",
            "  \n",
            "/usr/local/lib/python3.7/dist-packages/ipykernel_launcher.py:3: SettingWithCopyWarning: \n",
            "A value is trying to be set on a copy of a slice from a DataFrame.\n",
            "Try using .loc[row_indexer,col_indexer] = value instead\n",
            "\n",
            "See the caveats in the documentation: https://pandas.pydata.org/pandas-docs/stable/user_guide/indexing.html#returning-a-view-versus-a-copy\n",
            "  This is separate from the ipykernel package so we can avoid doing imports until\n",
            "/usr/local/lib/python3.7/dist-packages/ipykernel_launcher.py:4: SettingWithCopyWarning: \n",
            "A value is trying to be set on a copy of a slice from a DataFrame.\n",
            "Try using .loc[row_indexer,col_indexer] = value instead\n",
            "\n",
            "See the caveats in the documentation: https://pandas.pydata.org/pandas-docs/stable/user_guide/indexing.html#returning-a-view-versus-a-copy\n",
            "  after removing the cwd from sys.path.\n"
          ],
          "name": "stderr"
        }
      ]
    },
    {
      "cell_type": "code",
      "metadata": {
        "id": "bSph87SRFrSs"
      },
      "source": [
        "train_df = train_df.astype(float)\n",
        "test_df = test_df.astype(float)"
      ],
      "execution_count": null,
      "outputs": []
    },
    {
      "cell_type": "code",
      "metadata": {
        "id": "az0sllNVFrVX"
      },
      "source": [
        "train_average_points = train_df.pop('Following_Year_PPG')\n",
        "\n",
        "test_average_points = test_df.pop('Following_Year_PPG')"
      ],
      "execution_count": null,
      "outputs": []
    },
    {
      "cell_type": "code",
      "metadata": {
        "id": "elLYQotSFrYA"
      },
      "source": [
        "import tensorflow as tf\n",
        "dataset = tf.data.Dataset.from_tensor_slices((train_df.values, train_average_points.values))\n",
        "train_dataset = dataset.shuffle(len(df)).batch(1)\n",
        "\n",
        "dataset = tf.data.Dataset.from_tensor_slices((test_df.values, test_average_points.values))\n",
        "test_dataset = dataset.shuffle(len(df)).batch(1)"
      ],
      "execution_count": null,
      "outputs": []
    },
    {
      "cell_type": "code",
      "metadata": {
        "id": "qgYowz7MFra4"
      },
      "source": [
        "from tensorflow import keras\n",
        "def get_compiled_model():\n",
        "  model = tf.keras.Sequential([\n",
        "    keras.layers.Flatten(input_shape=(15,)),\n",
        "    keras.layers.Dense(20, activation='relu'),\n",
        "\t  keras.layers.Dense(20, activation='relu'),\n",
        "    tf.keras.layers.GaussianNoise(0.1),\n",
        "    keras.layers.Dense(1)\n",
        "  ])\n",
        "\n",
        "  model.compile(optimizer='adam',\n",
        "                loss='mse',\n",
        "                metrics=['mae'])\n",
        "  return model"
      ],
      "execution_count": null,
      "outputs": []
    },
    {
      "cell_type": "code",
      "metadata": {
        "colab": {
          "base_uri": "https://localhost:8080/"
        },
        "id": "qqzHHNS3Frdz",
        "outputId": "46d618ae-f465-4c85-d0e5-5180a3eede5e"
      },
      "source": [
        "model = get_compiled_model()\n",
        "model.fit(train_dataset, epochs=50)"
      ],
      "execution_count": null,
      "outputs": [
        {
          "output_type": "stream",
          "text": [
            "Epoch 1/50\n",
            "160/160 [==============================] - 1s 1ms/step - loss: 77.1981 - mae: 6.6861\n",
            "Epoch 2/50\n",
            "160/160 [==============================] - 0s 1ms/step - loss: 41.1553 - mae: 5.0907\n",
            "Epoch 3/50\n",
            "160/160 [==============================] - 0s 1ms/step - loss: 44.1014 - mae: 5.3143\n",
            "Epoch 4/50\n",
            "160/160 [==============================] - 0s 1ms/step - loss: 30.3948 - mae: 4.5289\n",
            "Epoch 5/50\n",
            "160/160 [==============================] - 0s 2ms/step - loss: 27.9741 - mae: 4.3397\n",
            "Epoch 6/50\n",
            "160/160 [==============================] - 0s 1ms/step - loss: 25.5634 - mae: 4.0801\n",
            "Epoch 7/50\n",
            "160/160 [==============================] - 0s 1ms/step - loss: 23.2500 - mae: 3.7927\n",
            "Epoch 8/50\n",
            "160/160 [==============================] - 0s 1ms/step - loss: 23.9675 - mae: 3.9125\n",
            "Epoch 9/50\n",
            "160/160 [==============================] - 0s 1ms/step - loss: 30.2618 - mae: 4.2281\n",
            "Epoch 10/50\n",
            "160/160 [==============================] - 0s 1ms/step - loss: 22.9271 - mae: 3.8272\n",
            "Epoch 11/50\n",
            "160/160 [==============================] - 0s 1ms/step - loss: 22.6050 - mae: 3.8161\n",
            "Epoch 12/50\n",
            "160/160 [==============================] - 0s 1ms/step - loss: 19.7022 - mae: 3.6516\n",
            "Epoch 13/50\n",
            "160/160 [==============================] - 0s 1ms/step - loss: 21.0818 - mae: 3.5775\n",
            "Epoch 14/50\n",
            "160/160 [==============================] - 0s 1ms/step - loss: 23.9604 - mae: 3.9424\n",
            "Epoch 15/50\n",
            "160/160 [==============================] - 0s 1ms/step - loss: 23.8902 - mae: 3.7221\n",
            "Epoch 16/50\n",
            "160/160 [==============================] - 0s 2ms/step - loss: 19.6916 - mae: 3.5984\n",
            "Epoch 17/50\n",
            "160/160 [==============================] - 0s 1ms/step - loss: 24.0184 - mae: 3.7958\n",
            "Epoch 18/50\n",
            "160/160 [==============================] - 0s 1ms/step - loss: 19.0599 - mae: 3.3625\n",
            "Epoch 19/50\n",
            "160/160 [==============================] - 0s 1ms/step - loss: 33.2088 - mae: 4.4234\n",
            "Epoch 20/50\n",
            "160/160 [==============================] - 0s 1ms/step - loss: 18.3680 - mae: 3.3128\n",
            "Epoch 21/50\n",
            "160/160 [==============================] - 0s 1ms/step - loss: 17.6606 - mae: 3.2280\n",
            "Epoch 22/50\n",
            "160/160 [==============================] - 0s 1ms/step - loss: 19.1318 - mae: 3.4654\n",
            "Epoch 23/50\n",
            "160/160 [==============================] - 0s 1ms/step - loss: 20.5724 - mae: 3.4751\n",
            "Epoch 24/50\n",
            "160/160 [==============================] - 0s 1ms/step - loss: 35.8357 - mae: 4.4563\n",
            "Epoch 25/50\n",
            "160/160 [==============================] - 0s 1ms/step - loss: 17.1927 - mae: 3.2543\n",
            "Epoch 26/50\n",
            "160/160 [==============================] - 0s 1ms/step - loss: 17.8412 - mae: 3.3034\n",
            "Epoch 27/50\n",
            "160/160 [==============================] - 0s 1ms/step - loss: 17.1590 - mae: 3.2186\n",
            "Epoch 28/50\n",
            "160/160 [==============================] - 0s 1ms/step - loss: 22.8273 - mae: 3.6455\n",
            "Epoch 29/50\n",
            "160/160 [==============================] - 0s 1ms/step - loss: 19.2468 - mae: 3.3216\n",
            "Epoch 30/50\n",
            "160/160 [==============================] - 0s 1ms/step - loss: 27.1852 - mae: 4.1176\n",
            "Epoch 31/50\n",
            "160/160 [==============================] - 0s 1ms/step - loss: 22.8123 - mae: 3.7604\n",
            "Epoch 32/50\n",
            "160/160 [==============================] - 0s 1ms/step - loss: 18.9226 - mae: 3.4391\n",
            "Epoch 33/50\n",
            "160/160 [==============================] - 0s 1ms/step - loss: 16.5898 - mae: 3.3928\n",
            "Epoch 34/50\n",
            "160/160 [==============================] - 0s 1ms/step - loss: 23.1871 - mae: 3.8343\n",
            "Epoch 35/50\n",
            "160/160 [==============================] - 0s 1ms/step - loss: 18.1042 - mae: 3.2672\n",
            "Epoch 36/50\n",
            "160/160 [==============================] - 0s 2ms/step - loss: 16.3499 - mae: 3.1813\n",
            "Epoch 37/50\n",
            "160/160 [==============================] - 0s 1ms/step - loss: 18.5340 - mae: 3.2590\n",
            "Epoch 38/50\n",
            "160/160 [==============================] - 0s 1ms/step - loss: 16.4479 - mae: 3.1309\n",
            "Epoch 39/50\n",
            "160/160 [==============================] - 0s 1ms/step - loss: 18.4384 - mae: 3.3052\n",
            "Epoch 40/50\n",
            "160/160 [==============================] - 0s 1ms/step - loss: 16.8320 - mae: 3.1626\n",
            "Epoch 41/50\n",
            "160/160 [==============================] - 0s 1ms/step - loss: 16.1910 - mae: 3.1961\n",
            "Epoch 42/50\n",
            "160/160 [==============================] - 0s 1ms/step - loss: 18.2430 - mae: 3.3278\n",
            "Epoch 43/50\n",
            "160/160 [==============================] - 0s 1ms/step - loss: 15.1298 - mae: 3.0184\n",
            "Epoch 44/50\n",
            "160/160 [==============================] - 0s 1ms/step - loss: 18.2267 - mae: 3.3643\n",
            "Epoch 45/50\n",
            "160/160 [==============================] - 0s 1ms/step - loss: 15.2353 - mae: 3.0071\n",
            "Epoch 46/50\n",
            "160/160 [==============================] - 0s 1ms/step - loss: 19.3022 - mae: 3.3828\n",
            "Epoch 47/50\n",
            "160/160 [==============================] - 0s 1ms/step - loss: 18.6148 - mae: 3.3478\n",
            "Epoch 48/50\n",
            "160/160 [==============================] - 0s 1ms/step - loss: 17.0046 - mae: 3.1863\n",
            "Epoch 49/50\n",
            "160/160 [==============================] - 0s 1ms/step - loss: 14.0473 - mae: 2.9618\n",
            "Epoch 50/50\n",
            "160/160 [==============================] - 0s 1ms/step - loss: 19.9453 - mae: 3.4900\n"
          ],
          "name": "stdout"
        },
        {
          "output_type": "execute_result",
          "data": {
            "text/plain": [
              "<tensorflow.python.keras.callbacks.History at 0x7f9295c7b890>"
            ]
          },
          "metadata": {
            "tags": []
          },
          "execution_count": 66
        }
      ]
    },
    {
      "cell_type": "code",
      "metadata": {
        "colab": {
          "base_uri": "https://localhost:8080/"
        },
        "id": "C08lxY2bFrgp",
        "outputId": "41825ac5-29a6-4374-88c4-7e56f53aa656"
      },
      "source": [
        "test_loss, test_acc = model.evaluate(test_df, test_average_points)\n",
        "print('Test accuracy:', test_acc)"
      ],
      "execution_count": null,
      "outputs": [
        {
          "output_type": "stream",
          "text": [
            "WARNING:tensorflow:6 out of the last 11 calls to <function Model.make_test_function.<locals>.test_function at 0x7f92a0908d40> triggered tf.function retracing. Tracing is expensive and the excessive number of tracings could be due to (1) creating @tf.function repeatedly in a loop, (2) passing tensors with different shapes, (3) passing Python objects instead of tensors. For (1), please define your @tf.function outside of the loop. For (2), @tf.function has experimental_relax_shapes=True option that relaxes argument shapes that can avoid unnecessary retracing. For (3), please refer to https://www.tensorflow.org/guide/function#controlling_retracing and https://www.tensorflow.org/api_docs/python/tf/function for  more details.\n",
            "2/2 [==============================] - 0s 7ms/step - loss: 30.1045 - mae: 4.4196\n",
            "Test accuracy: 4.419551849365234\n"
          ],
          "name": "stdout"
        }
      ]
    },
    {
      "cell_type": "code",
      "metadata": {
        "id": "dUj0zpMFVW1d"
      },
      "source": [
        "while True:\n",
        "  model = get_compiled_model()\n",
        "  model.fit(train_dataset, epochs=50)\n",
        "  test_loss, test_acc = model.evaluate(test_df, test_average_points)\n",
        "  print('Test accuracy:', test_acc)\n",
        "  if test_acc < 2:\n",
        "    break"
      ],
      "execution_count": null,
      "outputs": []
    },
    {
      "cell_type": "code",
      "metadata": {
        "id": "xkeHs5pVFrjP"
      },
      "source": [
        "model.save('Newest_Accurate_WR_Model.h5')"
      ],
      "execution_count": null,
      "outputs": []
    }
  ]
}