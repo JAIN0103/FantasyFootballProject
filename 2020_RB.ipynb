{
  "nbformat": 4,
  "nbformat_minor": 0,
  "metadata": {
    "colab": {
      "name": "2020_RB",
      "provenance": []
    },
    "kernelspec": {
      "name": "python3",
      "display_name": "Python 3"
    },
    "language_info": {
      "name": "python"
    }
  },
  "cells": [
    {
      "cell_type": "code",
      "metadata": {
        "id": "_MD7VJ8PSXNk"
      },
      "source": [
        "import tensorflow as tf\n",
        "from tensorflow import keras\n",
        "import pandas as pd\n",
        "model = tf.keras.models.load_model('/content/Newest_Accurate_RB_Model.h5')"
      ],
      "execution_count": null,
      "outputs": []
    },
    {
      "cell_type": "code",
      "metadata": {
        "colab": {
          "base_uri": "https://localhost:8080/"
        },
        "id": "a-Aw0sLzSr-x",
        "outputId": "d2dd9953-7fc0-4484-a54e-d14bb4315d82"
      },
      "source": [
        "df = pd.read_excel('2020_RB_Data.xlsx')\n",
        "print(df['Player'])\n",
        "df = df.drop(['Player'], axis=1)\n",
        "df['4_x'] = df['4_x'].replace(',','',regex=True)\n",
        "df['5_y'] = df['5_y'].replace(',','',regex=True)\n",
        "df = df.astype(float)\n",
        "df.pop('Following_Year_PPG')\n",
        "print(df)\n",
        "x=1"
      ],
      "execution_count": null,
      "outputs": [
        {
          "output_type": "stream",
          "text": [
            "0              2020 alvin kamara\n",
            "1               2020 dalvin cook\n",
            "2             2020 derrick henry\n",
            "3          2020 david montgomery\n",
            "4               2020 aaron jones\n",
            "5           2020 jonathan taylor\n",
            "6            2020 james robinson\n",
            "7               2020 josh jacobs\n",
            "8           2020 ezekiel elliott\n",
            "9               2020 kareem hunt\n",
            "10               2020 nick chubb\n",
            "11            2020 mike davis rb\n",
            "12           2020 antonio gibson\n",
            "13            2020 melvin gordon\n",
            "14             2020 nyheim hines\n",
            "15             2020 kenyan drake\n",
            "16              2020 jd mckissic\n",
            "17             2020 dandre swift\n",
            "18             2020 chris carson\n",
            "19          2020 ronald jones ii\n",
            "20         2020 david johnson rb\n",
            "21    2020 clyde edwards helaire\n",
            "22            2020 miles sanders\n",
            "23               2020 jk dobbins\n",
            "24            2020 chase edmonds\n",
            "25            2020 austin ekeler\n",
            "26             2020 james conner\n",
            "27             2020 myles gaskin\n",
            "28              2020 todd gurley\n",
            "29          2020 giovani bernard\n",
            "30         2020 devin singletary\n",
            "31           2020 jeffery wilson\n",
            "32            2020 wayne gallman\n",
            "33          2020 latavius murray\n",
            "34        2020 leonard fournette\n",
            "35        2020 darrell henderson\n",
            "36              2020 gus edwards\n",
            "37          2020 jamaal williams\n",
            "38          2020 jerick mckinnon\n",
            "39      2020 adrian peterson min\n",
            "40             2020 tony pollard\n",
            "41              2020 james white\n",
            "Name: Player, dtype: object\n",
            "     2_x    3_x     4_x  5_x   6_x   7_x  ...   3_y    4_y    5_y   6_y   7_y  8_y\n",
            "0   15.0  187.0   932.0  5.0  49.0  16.0  ...  83.0  107.0  756.0   9.1  52.0  5.0\n",
            "1   14.0  312.0  1557.0  5.0  70.0  16.0  ...  44.0   54.0  361.0   8.2  50.0  1.0\n",
            "2   16.0  378.0  2027.0  5.4  94.0  17.0  ...  19.0   31.0  114.0   6.0  53.0  0.0\n",
            "3   15.0  247.0  1070.0  4.3  80.0   8.0  ...  54.0   68.0  438.0   8.1  28.0  2.0\n",
            "4   14.0  201.0  1104.0  5.5  77.0   9.0  ...  47.0   63.0  355.0   7.6  30.0  2.0\n",
            "5   15.0  232.0  1169.0  5.0  62.0  11.0  ...  36.0   39.0  299.0   8.3  39.0  1.0\n",
            "6   14.0  240.0  1070.0  4.5  47.0   7.0  ...  49.0   60.0  344.0   7.0  28.0  3.0\n",
            "7   15.0  273.0  1065.0  3.9  28.0  12.0  ...  33.0   45.0  238.0   7.2  29.0  0.0\n",
            "8   15.0  244.0   979.0  4.0  31.0   6.0  ...  52.0   71.0  338.0   6.5  19.0  2.0\n",
            "9   16.0  198.0   841.0  4.2  33.0   6.0  ...  38.0   51.0  304.0   8.0  26.0  5.0\n",
            "10  12.0  190.0  1067.0  5.6  59.0  12.0  ...  16.0   18.0  150.0   9.4  26.0  0.0\n",
            "11  15.0  165.0   642.0  3.9  25.0   6.0  ...  59.0   70.0  373.0   6.3  23.0  2.0\n",
            "12  14.0  170.0   795.0  4.7  40.0  11.0  ...  36.0   44.0  247.0   6.9  40.0  0.0\n",
            "13  15.0  215.0   986.0  4.6  65.0   9.0  ...  32.0   44.0  158.0   4.9  20.0  1.0\n",
            "14  16.0   89.0   380.0  4.3  31.0   3.0  ...  63.0   76.0  482.0   7.7  29.0  4.0\n",
            "15  15.0  239.0   955.0  4.0  69.0  10.0  ...  25.0   31.0  137.0   5.5  18.0  0.0\n",
            "16  16.0   85.0   365.0  4.3  17.0   1.0  ...  80.0  110.0  589.0   7.4  29.0  2.0\n",
            "17  13.0  114.0   521.0  4.6  54.0   8.0  ...  46.0   57.0  357.0   7.8  26.0  2.0\n",
            "18  12.0  141.0   681.0  4.8  29.0   5.0  ...  37.0   46.0  287.0   7.8  29.0  4.0\n",
            "19  14.0  192.0   978.0  5.1  98.0   7.0  ...  28.0   42.0  165.0   5.9  37.0  1.0\n",
            "20  12.0  147.0   691.0  4.7  48.0   6.0  ...  33.0   46.0  314.0   9.5  32.0  2.0\n",
            "21  13.0  181.0   803.0  4.4  31.0   4.0  ...  36.0   54.0  297.0   8.3  26.0  1.0\n",
            "22  12.0  164.0   867.0  5.3  82.0   6.0  ...  28.0   52.0  197.0   7.0  28.0  0.0\n",
            "23  15.0  134.0   805.0  6.0  72.0   9.0  ...  18.0   24.0  120.0   6.7  19.0  0.0\n",
            "24  16.0   97.0   448.0  4.6  32.0   1.0  ...  53.0   67.0  402.0   7.6  30.0  4.0\n",
            "25  10.0  116.0   530.0  4.6  27.0   1.0  ...  54.0   65.0  403.0   7.5  28.0  2.0\n",
            "26  13.0  169.0   721.0  4.3  59.0   6.0  ...  35.0   43.0  215.0   6.1  18.0  0.0\n",
            "27  10.0  142.0   584.0  4.1  26.0   3.0  ...  41.0   47.0  388.0   9.5  59.0  2.0\n",
            "28  15.0  195.0   678.0  3.5  35.0   9.0  ...  25.0   35.0  164.0   6.6  26.0  0.0\n",
            "29  16.0  124.0   416.0  3.4  15.0   3.0  ...  47.0   59.0  355.0   7.6  42.0  3.0\n",
            "30  16.0  156.0   687.0  4.4  51.0   2.0  ...  38.0   50.0  269.0   7.1  34.0  0.0\n",
            "31  12.0  126.0   600.0  4.8  34.0   7.0  ...  13.0   28.0  133.0  10.2  21.0  3.0\n",
            "32  15.0  147.0   682.0  4.6  60.0   6.0  ...  21.0   27.0  114.0   5.4  19.0  0.0\n",
            "33  15.0  146.0   656.0  4.5  36.0   4.0  ...  23.0   26.0  176.0   7.7  25.0  1.0\n",
            "34  13.0   97.0   367.0  3.8  46.0   6.0  ...  36.0   47.0  233.0   6.5  20.0  0.0\n",
            "35  15.0  138.0   624.0  4.5  40.0   5.0  ...  16.0   24.0  159.0   9.9  28.0  1.0\n",
            "36  16.0  144.0   723.0  5.0  36.0   6.0  ...   9.0   13.0  129.0  14.3  34.0  0.0\n",
            "37  14.0  119.0   505.0  4.2  25.0   2.0  ...  31.0   35.0  236.0   7.6  29.0  1.0\n",
            "38  16.0   81.0   319.0  3.9  55.0   5.0  ...  33.0   46.0  253.0   7.7  26.0  1.0\n",
            "39  16.0  156.0   604.0  3.9  38.0   7.0  ...  12.0   18.0  101.0   8.4  23.0  0.0\n",
            "40  16.0  101.0   435.0  4.3  42.0   4.0  ...  28.0   40.0  193.0   6.9  30.0  1.0\n",
            "41  14.0   35.0   121.0  3.5  10.0   2.0  ...  49.0   62.0  375.0   7.7  34.0  1.0\n",
            "\n",
            "[42 rows x 15 columns]\n"
          ],
          "name": "stdout"
        }
      ]
    },
    {
      "cell_type": "code",
      "metadata": {
        "colab": {
          "base_uri": "https://localhost:8080/"
        },
        "id": "s4rloYjQS-F2",
        "outputId": "bcbe0048-902c-43e2-a6a8-82fb94078452"
      },
      "source": [
        "model.predict(df)\n",
        "result_df = pd.read_excel('2020_RB_Data.xlsx')\n",
        "for x in range(len(result_df)):\n",
        "  y = model.predict([df[x:x+1]])\n",
        "  result_df.loc[x,'Following_Year_PPG'] = y[0]\n",
        "print(result_df)\n",
        "result_df.to_excel('2020_RB_With_PPG.xlsx')"
      ],
      "execution_count": null,
      "outputs": [
        {
          "output_type": "stream",
          "text": [
            "                        Player  Following_Year_PPG  2_x  ...   6_y 7_y  8_y\n",
            "0            2020 alvin kamara           19.790457   15  ...   9.1  52    5\n",
            "1             2020 dalvin cook           17.793032   14  ...   8.2  50    1\n",
            "2           2020 derrick henry           20.382269   16  ...   6.0  53    0\n",
            "3        2020 david montgomery           16.584782   15  ...   8.1  28    2\n",
            "4             2020 aaron jones           14.539748   14  ...   7.6  30    2\n",
            "5         2020 jonathan taylor           14.084286   15  ...   8.3  39    1\n",
            "6          2020 james robinson           15.931042   14  ...   7.0  28    3\n",
            "7             2020 josh jacobs           15.881326   15  ...   7.2  29    0\n",
            "8         2020 ezekiel elliott           17.341280   15  ...   6.5  19    2\n",
            "9             2020 kareem hunt           13.968766   16  ...   8.0  26    5\n",
            "10             2020 nick chubb           10.185503   12  ...   9.4  26    0\n",
            "11          2020 mike davis rb           13.424543   15  ...   6.3  23    2\n",
            "12         2020 antonio gibson           13.709939   14  ...   6.9  40    0\n",
            "13          2020 melvin gordon           12.402102   15  ...   4.9  20    1\n",
            "14           2020 nyheim hines           13.893206   16  ...   7.7  29    4\n",
            "15           2020 kenyan drake           11.955319   15  ...   5.5  18    0\n",
            "16            2020 jd mckissic           15.462973   16  ...   7.4  29    2\n",
            "17           2020 dandre swift           14.807797   13  ...   7.8  26    2\n",
            "18           2020 chris carson           12.211926   12  ...   7.8  29    4\n",
            "19        2020 ronald jones ii           12.296305   14  ...   5.9  37    1\n",
            "20       2020 david johnson rb           13.214746   12  ...   9.5  32    2\n",
            "21  2020 clyde edwards helaire           14.358470   13  ...   8.3  26    1\n",
            "22          2020 miles sanders           12.895517   12  ...   7.0  28    0\n",
            "23             2020 jk dobbins            8.615760   15  ...   6.7  19    0\n",
            "24          2020 chase edmonds           13.814084   16  ...   7.6  30    4\n",
            "25          2020 austin ekeler           13.341674   10  ...   7.5  28    2\n",
            "26           2020 james conner           11.974830   13  ...   6.1  18    0\n",
            "27           2020 myles gaskin           12.598077   10  ...   9.5  59    2\n",
            "28            2020 todd gurley           16.117817   15  ...   6.6  26    0\n",
            "29        2020 giovani bernard           11.117215   16  ...   7.6  42    3\n",
            "30       2020 devin singletary           13.649069   16  ...   7.1  34    0\n",
            "31         2020 jeffery wilson           10.439433   12  ...  10.2  21    3\n",
            "32          2020 wayne gallman            9.085310   15  ...   5.4  19    0\n",
            "33        2020 latavius murray           10.445106   15  ...   7.7  25    1\n",
            "34      2020 leonard fournette           11.021740   13  ...   6.5  20    0\n",
            "35      2020 darrell henderson           10.742460   15  ...   9.9  28    1\n",
            "36            2020 gus edwards           11.054613   16  ...  14.3  34    0\n",
            "37        2020 jamaal williams           10.805646   14  ...   7.6  29    1\n",
            "38        2020 jerick mckinnon           12.677673   16  ...   7.7  26    1\n",
            "39    2020 adrian peterson min           10.888008   16  ...   8.4  23    0\n",
            "40           2020 tony pollard           10.449571   16  ...   6.9  30    1\n",
            "41            2020 james white            9.056794   14  ...   7.7  34    1\n",
            "\n",
            "[42 rows x 17 columns]\n"
          ],
          "name": "stdout"
        }
      ]
    }
  ]
}