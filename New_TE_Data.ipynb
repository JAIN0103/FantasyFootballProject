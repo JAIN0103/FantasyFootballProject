{
  "nbformat": 4,
  "nbformat_minor": 0,
  "metadata": {
    "colab": {
      "name": "New_TE_Data",
      "provenance": []
    },
    "kernelspec": {
      "name": "python3",
      "display_name": "Python 3"
    },
    "language_info": {
      "name": "python"
    }
  },
  "cells": [
    {
      "cell_type": "code",
      "metadata": {
        "id": "f8IUVY_UG2JH"
      },
      "source": [
        "import pandas as pd\n",
        "import numpy as np\n",
        "\n",
        "pd.set_option('display.max_rows', 500)\n",
        "pd.set_option('display.max_columns', 500)\n",
        "pd.set_option('display.width', 150)\n",
        "df = pd.read_excel('2013-2019_TE_Data.xlsx')"
      ],
      "execution_count": null,
      "outputs": []
    },
    {
      "cell_type": "code",
      "metadata": {
        "id": "bgXUIhAoHN5c"
      },
      "source": [
        "df = df.drop(['Player'], axis=1)\n",
        "df = df.iloc[np.random.permutation(len(df))]"
      ],
      "execution_count": null,
      "outputs": []
    },
    {
      "cell_type": "code",
      "metadata": {
        "id": "UucJ6xLEHN_s"
      },
      "source": [
        "train_df = df[:50]\n",
        "test_df = df[50:]"
      ],
      "execution_count": null,
      "outputs": []
    },
    {
      "cell_type": "code",
      "metadata": {
        "colab": {
          "base_uri": "https://localhost:8080/"
        },
        "id": "pQSg4rdOHOC2",
        "outputId": "fc196e51-30b0-4a05-987f-6d074b4a42b9"
      },
      "source": [
        "train_df['5_x'] = train_df['5_x'].replace(',','',regex=True)\n",
        "train_df['4_y'] = train_df['4_y'].replace(',','',regex=True)\n",
        "test_df['5_x'] = test_df['5_x'].replace(',','',regex=True)\n",
        "test_df['4_y'] = test_df['4_y'].replace(',','',regex=True)"
      ],
      "execution_count": null,
      "outputs": [
        {
          "output_type": "stream",
          "text": [
            "/usr/local/lib/python3.7/dist-packages/ipykernel_launcher.py:1: SettingWithCopyWarning: \n",
            "A value is trying to be set on a copy of a slice from a DataFrame.\n",
            "Try using .loc[row_indexer,col_indexer] = value instead\n",
            "\n",
            "See the caveats in the documentation: https://pandas.pydata.org/pandas-docs/stable/user_guide/indexing.html#returning-a-view-versus-a-copy\n",
            "  \"\"\"Entry point for launching an IPython kernel.\n",
            "/usr/local/lib/python3.7/dist-packages/ipykernel_launcher.py:2: SettingWithCopyWarning: \n",
            "A value is trying to be set on a copy of a slice from a DataFrame.\n",
            "Try using .loc[row_indexer,col_indexer] = value instead\n",
            "\n",
            "See the caveats in the documentation: https://pandas.pydata.org/pandas-docs/stable/user_guide/indexing.html#returning-a-view-versus-a-copy\n",
            "  \n",
            "/usr/local/lib/python3.7/dist-packages/ipykernel_launcher.py:3: SettingWithCopyWarning: \n",
            "A value is trying to be set on a copy of a slice from a DataFrame.\n",
            "Try using .loc[row_indexer,col_indexer] = value instead\n",
            "\n",
            "See the caveats in the documentation: https://pandas.pydata.org/pandas-docs/stable/user_guide/indexing.html#returning-a-view-versus-a-copy\n",
            "  This is separate from the ipykernel package so we can avoid doing imports until\n",
            "/usr/local/lib/python3.7/dist-packages/ipykernel_launcher.py:4: SettingWithCopyWarning: \n",
            "A value is trying to be set on a copy of a slice from a DataFrame.\n",
            "Try using .loc[row_indexer,col_indexer] = value instead\n",
            "\n",
            "See the caveats in the documentation: https://pandas.pydata.org/pandas-docs/stable/user_guide/indexing.html#returning-a-view-versus-a-copy\n",
            "  after removing the cwd from sys.path.\n"
          ],
          "name": "stderr"
        }
      ]
    },
    {
      "cell_type": "code",
      "metadata": {
        "id": "7_5vvH7LHOF9"
      },
      "source": [
        "train_df = train_df.astype(float)\n",
        "test_df = test_df.astype(float)"
      ],
      "execution_count": null,
      "outputs": []
    },
    {
      "cell_type": "code",
      "metadata": {
        "id": "pKe-9x7NHOIy"
      },
      "source": [
        "train_average_points = train_df.pop('Following_Year_PPG')\n",
        "\n",
        "test_average_points = test_df.pop('Following_Year_PPG')"
      ],
      "execution_count": null,
      "outputs": []
    },
    {
      "cell_type": "code",
      "metadata": {
        "id": "2hyi-bJNHOLo"
      },
      "source": [
        "import tensorflow as tf\n",
        "dataset = tf.data.Dataset.from_tensor_slices((train_df.values, train_average_points.values))\n",
        "train_dataset = dataset.shuffle(len(df)).batch(1)\n",
        "\n",
        "dataset = tf.data.Dataset.from_tensor_slices((test_df.values, test_average_points.values))\n",
        "test_dataset = dataset.shuffle(len(df)).batch(1)"
      ],
      "execution_count": null,
      "outputs": []
    },
    {
      "cell_type": "code",
      "metadata": {
        "id": "lID8j2LVHOOj"
      },
      "source": [
        "from tensorflow import keras\n",
        "def get_compiled_model():\n",
        "  model = tf.keras.Sequential([\n",
        "    keras.layers.Flatten(input_shape=(15,)),\n",
        "    keras.layers.Dense(20, activation='relu'),\n",
        "\t  keras.layers.Dense(20, activation='relu'),\n",
        "    tf.keras.layers.GaussianNoise(0.1),\n",
        "    keras.layers.Dense(1)\n",
        "  ])\n",
        "\n",
        "  model.compile(optimizer='adam',\n",
        "                loss='mse',\n",
        "                metrics=['mae'])\n",
        "  return model"
      ],
      "execution_count": null,
      "outputs": []
    },
    {
      "cell_type": "code",
      "metadata": {
        "colab": {
          "base_uri": "https://localhost:8080/"
        },
        "id": "FzBXBdfTHORf",
        "outputId": "e37fb3e5-3fcf-4a50-a689-c022b1d06951"
      },
      "source": [
        "model = get_compiled_model()\n",
        "model.fit(train_dataset, epochs=50)"
      ],
      "execution_count": null,
      "outputs": [
        {
          "output_type": "stream",
          "text": [
            "Epoch 1/50\n",
            "50/50 [==============================] - 0s 1ms/step - loss: 834.8984 - mae: 19.6297\n",
            "Epoch 2/50\n",
            "50/50 [==============================] - 0s 1ms/step - loss: 40.3854 - mae: 4.9724\n",
            "Epoch 3/50\n",
            "50/50 [==============================] - 0s 1ms/step - loss: 20.0377 - mae: 3.5456\n",
            "Epoch 4/50\n",
            "50/50 [==============================] - 0s 1ms/step - loss: 16.0729 - mae: 3.2836\n",
            "Epoch 5/50\n",
            "50/50 [==============================] - 0s 1ms/step - loss: 18.0603 - mae: 3.5663\n",
            "Epoch 6/50\n",
            "50/50 [==============================] - 0s 1ms/step - loss: 13.2139 - mae: 3.0195\n",
            "Epoch 7/50\n",
            "50/50 [==============================] - 0s 1ms/step - loss: 15.3675 - mae: 3.0270\n",
            "Epoch 8/50\n",
            "50/50 [==============================] - 0s 1ms/step - loss: 10.7828 - mae: 2.5767\n",
            "Epoch 9/50\n",
            "50/50 [==============================] - 0s 1ms/step - loss: 17.4357 - mae: 3.3349\n",
            "Epoch 10/50\n",
            "50/50 [==============================] - 0s 1ms/step - loss: 14.3433 - mae: 3.0075\n",
            "Epoch 11/50\n",
            "50/50 [==============================] - 0s 1ms/step - loss: 10.6087 - mae: 2.6704\n",
            "Epoch 12/50\n",
            "50/50 [==============================] - 0s 1ms/step - loss: 9.4422 - mae: 2.3522\n",
            "Epoch 13/50\n",
            "50/50 [==============================] - 0s 1ms/step - loss: 9.5988 - mae: 2.4697\n",
            "Epoch 14/50\n",
            "50/50 [==============================] - 0s 1ms/step - loss: 10.0438 - mae: 2.4932\n",
            "Epoch 15/50\n",
            "50/50 [==============================] - 0s 1ms/step - loss: 8.8489 - mae: 2.4002\n",
            "Epoch 16/50\n",
            "50/50 [==============================] - 0s 1ms/step - loss: 8.9608 - mae: 2.4032\n",
            "Epoch 17/50\n",
            "50/50 [==============================] - 0s 1ms/step - loss: 9.5220 - mae: 2.3176\n",
            "Epoch 18/50\n",
            "50/50 [==============================] - 0s 1ms/step - loss: 9.3910 - mae: 2.4184\n",
            "Epoch 19/50\n",
            "50/50 [==============================] - 0s 1ms/step - loss: 12.5583 - mae: 2.6692\n",
            "Epoch 20/50\n",
            "50/50 [==============================] - 0s 1ms/step - loss: 8.3896 - mae: 2.2991\n",
            "Epoch 21/50\n",
            "50/50 [==============================] - 0s 1ms/step - loss: 7.2599 - mae: 2.1450\n",
            "Epoch 22/50\n",
            "50/50 [==============================] - 0s 1ms/step - loss: 18.7969 - mae: 3.4346\n",
            "Epoch 23/50\n",
            "50/50 [==============================] - 0s 1ms/step - loss: 9.3527 - mae: 2.4299\n",
            "Epoch 24/50\n",
            "50/50 [==============================] - 0s 1ms/step - loss: 9.9037 - mae: 2.5600\n",
            "Epoch 25/50\n",
            "50/50 [==============================] - 0s 1ms/step - loss: 9.5914 - mae: 2.4457\n",
            "Epoch 26/50\n",
            "50/50 [==============================] - 0s 1ms/step - loss: 8.2734 - mae: 2.4016\n",
            "Epoch 27/50\n",
            "50/50 [==============================] - 0s 1ms/step - loss: 8.1900 - mae: 2.2166\n",
            "Epoch 28/50\n",
            "50/50 [==============================] - 0s 1ms/step - loss: 8.7946 - mae: 2.3072\n",
            "Epoch 29/50\n",
            "50/50 [==============================] - 0s 1ms/step - loss: 9.6347 - mae: 2.4479\n",
            "Epoch 30/50\n",
            "50/50 [==============================] - 0s 1ms/step - loss: 11.8744 - mae: 2.6771\n",
            "Epoch 31/50\n",
            "50/50 [==============================] - 0s 1ms/step - loss: 14.6103 - mae: 3.0538\n",
            "Epoch 32/50\n",
            "50/50 [==============================] - 0s 1ms/step - loss: 9.6082 - mae: 2.5079\n",
            "Epoch 33/50\n",
            "50/50 [==============================] - 0s 1ms/step - loss: 9.1382 - mae: 2.3074\n",
            "Epoch 34/50\n",
            "50/50 [==============================] - 0s 1ms/step - loss: 9.7064 - mae: 2.3644\n",
            "Epoch 35/50\n",
            "50/50 [==============================] - 0s 1ms/step - loss: 8.7030 - mae: 2.3339\n",
            "Epoch 36/50\n",
            "50/50 [==============================] - 0s 1ms/step - loss: 9.5799 - mae: 2.4027\n",
            "Epoch 37/50\n",
            "50/50 [==============================] - 0s 1ms/step - loss: 10.2372 - mae: 2.3724\n",
            "Epoch 38/50\n",
            "50/50 [==============================] - 0s 1ms/step - loss: 7.3794 - mae: 2.1701\n",
            "Epoch 39/50\n",
            "50/50 [==============================] - 0s 1ms/step - loss: 8.9810 - mae: 2.3941\n",
            "Epoch 40/50\n",
            "50/50 [==============================] - 0s 1ms/step - loss: 9.8177 - mae: 2.4189\n",
            "Epoch 41/50\n",
            "50/50 [==============================] - 0s 1ms/step - loss: 7.8161 - mae: 2.2531\n",
            "Epoch 42/50\n",
            "50/50 [==============================] - 0s 1ms/step - loss: 10.6232 - mae: 2.5713\n",
            "Epoch 43/50\n",
            "50/50 [==============================] - 0s 1ms/step - loss: 10.1388 - mae: 2.5040\n",
            "Epoch 44/50\n",
            "50/50 [==============================] - 0s 1ms/step - loss: 12.8671 - mae: 2.8265\n",
            "Epoch 45/50\n",
            "50/50 [==============================] - 0s 1ms/step - loss: 9.5724 - mae: 2.4519\n",
            "Epoch 46/50\n",
            "50/50 [==============================] - 0s 1ms/step - loss: 11.1125 - mae: 2.5955\n",
            "Epoch 47/50\n",
            "50/50 [==============================] - 0s 1ms/step - loss: 13.1153 - mae: 2.8996\n",
            "Epoch 48/50\n",
            "50/50 [==============================] - 0s 1ms/step - loss: 9.3548 - mae: 2.4295\n",
            "Epoch 49/50\n",
            "50/50 [==============================] - 0s 1ms/step - loss: 10.2721 - mae: 2.4704\n",
            "Epoch 50/50\n",
            "50/50 [==============================] - 0s 2ms/step - loss: 9.0864 - mae: 2.2781\n"
          ],
          "name": "stdout"
        },
        {
          "output_type": "execute_result",
          "data": {
            "text/plain": [
              "<tensorflow.python.keras.callbacks.History at 0x7f375e0fcb10>"
            ]
          },
          "metadata": {
            "tags": []
          },
          "execution_count": 53
        }
      ]
    },
    {
      "cell_type": "code",
      "metadata": {
        "colab": {
          "base_uri": "https://localhost:8080/"
        },
        "id": "B1taET4-HOUr",
        "outputId": "04659162-3471-465e-eacf-5cd06d296471"
      },
      "source": [
        "test_loss, test_acc = model.evaluate(test_df, test_average_points)\n",
        "print('Test accuracy:', test_acc)"
      ],
      "execution_count": null,
      "outputs": [
        {
          "output_type": "stream",
          "text": [
            "WARNING:tensorflow:5 out of the last 5 calls to <function Model.make_test_function.<locals>.test_function at 0x7f375e0fab90> triggered tf.function retracing. Tracing is expensive and the excessive number of tracings could be due to (1) creating @tf.function repeatedly in a loop, (2) passing tensors with different shapes, (3) passing Python objects instead of tensors. For (1), please define your @tf.function outside of the loop. For (2), @tf.function has experimental_relax_shapes=True option that relaxes argument shapes that can avoid unnecessary retracing. For (3), please refer to https://www.tensorflow.org/guide/function#controlling_retracing and https://www.tensorflow.org/api_docs/python/tf/function for  more details.\n",
            "1/1 [==============================] - 0s 99ms/step - loss: 13.9855 - mae: 2.8058\n",
            "Test accuracy: 2.805764675140381\n"
          ],
          "name": "stdout"
        }
      ]
    },
    {
      "cell_type": "code",
      "metadata": {
        "id": "AoCF3z9-VlS9"
      },
      "source": [
        "while True:\n",
        "  model = get_compiled_model()\n",
        "  model.fit(train_dataset, epochs=50)\n",
        "  test_loss, test_acc = model.evaluate(test_df, test_average_points)\n",
        "  print('Test accuracy:', test_acc)\n",
        "  if test_acc < 2:\n",
        "    break"
      ],
      "execution_count": null,
      "outputs": []
    },
    {
      "cell_type": "code",
      "metadata": {
        "id": "wnUolEx7HOXh"
      },
      "source": [
        "model.save('Newest_Accurate_TE_Model.h5')"
      ],
      "execution_count": null,
      "outputs": []
    }
  ]
}