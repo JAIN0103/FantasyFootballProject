{
  "nbformat": 4,
  "nbformat_minor": 0,
  "metadata": {
    "colab": {
      "name": "New_RB_Data",
      "provenance": []
    },
    "kernelspec": {
      "name": "python3",
      "display_name": "Python 3"
    },
    "language_info": {
      "name": "python"
    }
  },
  "cells": [
    {
      "cell_type": "code",
      "metadata": {
        "id": "hBIxUKKEC8oW"
      },
      "source": [
        "import pandas as pd\n",
        "import numpy as np\n",
        "\n",
        "pd.set_option('display.max_rows', 500)\n",
        "pd.set_option('display.max_columns', 500)\n",
        "pd.set_option('display.width', 150)\n",
        "df = pd.read_excel('2013-2019_RB_Data.xlsx')"
      ],
      "execution_count": null,
      "outputs": []
    },
    {
      "cell_type": "code",
      "metadata": {
        "id": "o7DKolQODMVM"
      },
      "source": [
        "df = df.drop(['Player'], axis=1)\n",
        "df = df.iloc[np.random.permutation(len(df))]"
      ],
      "execution_count": null,
      "outputs": []
    },
    {
      "cell_type": "code",
      "metadata": {
        "id": "lJmARaaiDMYz"
      },
      "source": [
        "train_df = df[:80]\n",
        "test_df = df[80:]"
      ],
      "execution_count": null,
      "outputs": []
    },
    {
      "cell_type": "code",
      "metadata": {
        "colab": {
          "base_uri": "https://localhost:8080/"
        },
        "id": "iWuiaCeXDMch",
        "outputId": "3dbd314c-426f-4ae6-f799-723451a21200"
      },
      "source": [
        "train_df['4_x'] = train_df['4_x'].replace(',','',regex=True)\n",
        "train_df['5_y'] = train_df['5_y'].replace(',','',regex=True)\n",
        "test_df['4_x'] = test_df['4_x'].replace(',','',regex=True)\n",
        "test_df['5_y'] = test_df['5_y'].replace(',','',regex=True)"
      ],
      "execution_count": null,
      "outputs": [
        {
          "output_type": "stream",
          "text": [
            "/usr/local/lib/python3.7/dist-packages/ipykernel_launcher.py:1: SettingWithCopyWarning: \n",
            "A value is trying to be set on a copy of a slice from a DataFrame.\n",
            "Try using .loc[row_indexer,col_indexer] = value instead\n",
            "\n",
            "See the caveats in the documentation: https://pandas.pydata.org/pandas-docs/stable/user_guide/indexing.html#returning-a-view-versus-a-copy\n",
            "  \"\"\"Entry point for launching an IPython kernel.\n",
            "/usr/local/lib/python3.7/dist-packages/ipykernel_launcher.py:2: SettingWithCopyWarning: \n",
            "A value is trying to be set on a copy of a slice from a DataFrame.\n",
            "Try using .loc[row_indexer,col_indexer] = value instead\n",
            "\n",
            "See the caveats in the documentation: https://pandas.pydata.org/pandas-docs/stable/user_guide/indexing.html#returning-a-view-versus-a-copy\n",
            "  \n",
            "/usr/local/lib/python3.7/dist-packages/ipykernel_launcher.py:3: SettingWithCopyWarning: \n",
            "A value is trying to be set on a copy of a slice from a DataFrame.\n",
            "Try using .loc[row_indexer,col_indexer] = value instead\n",
            "\n",
            "See the caveats in the documentation: https://pandas.pydata.org/pandas-docs/stable/user_guide/indexing.html#returning-a-view-versus-a-copy\n",
            "  This is separate from the ipykernel package so we can avoid doing imports until\n",
            "/usr/local/lib/python3.7/dist-packages/ipykernel_launcher.py:4: SettingWithCopyWarning: \n",
            "A value is trying to be set on a copy of a slice from a DataFrame.\n",
            "Try using .loc[row_indexer,col_indexer] = value instead\n",
            "\n",
            "See the caveats in the documentation: https://pandas.pydata.org/pandas-docs/stable/user_guide/indexing.html#returning-a-view-versus-a-copy\n",
            "  after removing the cwd from sys.path.\n"
          ],
          "name": "stderr"
        }
      ]
    },
    {
      "cell_type": "code",
      "metadata": {
        "id": "diWccDlnDMgC"
      },
      "source": [
        "train_df = train_df.astype(float)\n",
        "test_df = test_df.astype(float)"
      ],
      "execution_count": null,
      "outputs": []
    },
    {
      "cell_type": "code",
      "metadata": {
        "id": "1u05MlUMDMkA"
      },
      "source": [
        "train_average_points = train_df.pop('Following_Year_PPG')\n",
        "\n",
        "test_average_points = test_df.pop('Following_Year_PPG')"
      ],
      "execution_count": null,
      "outputs": []
    },
    {
      "cell_type": "code",
      "metadata": {
        "id": "I4YoyYodDMnf"
      },
      "source": [
        "import tensorflow as tf\n",
        "dataset = tf.data.Dataset.from_tensor_slices((train_df.values, train_average_points.values))\n",
        "train_dataset = dataset.shuffle(len(df)).batch(1)\n",
        "\n",
        "dataset = tf.data.Dataset.from_tensor_slices((test_df.values, test_average_points.values))\n",
        "test_dataset = dataset.shuffle(len(df)).batch(1)"
      ],
      "execution_count": null,
      "outputs": []
    },
    {
      "cell_type": "code",
      "metadata": {
        "id": "EbL6NK0mDMrU"
      },
      "source": [
        "from tensorflow import keras\n",
        "def get_compiled_model():\n",
        "  model = tf.keras.Sequential([\n",
        "    keras.layers.Flatten(input_shape=(15,)),\n",
        "    keras.layers.Dense(20, activation='relu'),\n",
        "\t  keras.layers.Dense(20, activation='relu'),\n",
        "    tf.keras.layers.GaussianNoise(0.1),\n",
        "    keras.layers.Dense(1)\n",
        "  ])\n",
        "\n",
        "  model.compile(optimizer='adam',\n",
        "                loss='mse',\n",
        "                metrics=['mae'])\n",
        "  return model"
      ],
      "execution_count": null,
      "outputs": []
    },
    {
      "cell_type": "code",
      "metadata": {
        "colab": {
          "base_uri": "https://localhost:8080/"
        },
        "id": "6bEaXN-oDMuZ",
        "outputId": "e3263ea4-440f-496a-c8bb-f2a9dc04c771"
      },
      "source": [
        "model = get_compiled_model()\n",
        "model.fit(train_dataset, epochs=50)"
      ],
      "execution_count": null,
      "outputs": [
        {
          "output_type": "stream",
          "text": [
            "Epoch 1/50\n",
            "80/80 [==============================] - 0s 1ms/step - loss: 198.2147 - mae: 10.7634\n",
            "Epoch 2/50\n",
            "80/80 [==============================] - 0s 1ms/step - loss: 98.5663 - mae: 7.8966\n",
            "Epoch 3/50\n",
            "80/80 [==============================] - 0s 1ms/step - loss: 47.2783 - mae: 5.4628\n",
            "Epoch 4/50\n",
            "80/80 [==============================] - 0s 1ms/step - loss: 62.2248 - mae: 6.2877\n",
            "Epoch 5/50\n",
            "80/80 [==============================] - 0s 1ms/step - loss: 62.1349 - mae: 6.1119\n",
            "Epoch 6/50\n",
            "80/80 [==============================] - 0s 1ms/step - loss: 54.5480 - mae: 5.9506\n",
            "Epoch 7/50\n",
            "80/80 [==============================] - 0s 1ms/step - loss: 48.0057 - mae: 5.2859\n",
            "Epoch 8/50\n",
            "80/80 [==============================] - 0s 1ms/step - loss: 43.3136 - mae: 5.0645\n",
            "Epoch 9/50\n",
            "80/80 [==============================] - 0s 1ms/step - loss: 36.9542 - mae: 4.5512\n",
            "Epoch 10/50\n",
            "80/80 [==============================] - 0s 1ms/step - loss: 38.8466 - mae: 4.8224\n",
            "Epoch 11/50\n",
            "80/80 [==============================] - 0s 1ms/step - loss: 52.6997 - mae: 5.5363\n",
            "Epoch 12/50\n",
            "80/80 [==============================] - 0s 1ms/step - loss: 91.4212 - mae: 7.5587\n",
            "Epoch 13/50\n",
            "80/80 [==============================] - 0s 1ms/step - loss: 54.5260 - mae: 5.6708\n",
            "Epoch 14/50\n",
            "80/80 [==============================] - 0s 1ms/step - loss: 134.8399 - mae: 8.3463\n",
            "Epoch 15/50\n",
            "80/80 [==============================] - 0s 1ms/step - loss: 41.1362 - mae: 5.1278\n",
            "Epoch 16/50\n",
            "80/80 [==============================] - 0s 1ms/step - loss: 42.1587 - mae: 5.2547\n",
            "Epoch 17/50\n",
            "80/80 [==============================] - 0s 1ms/step - loss: 39.0479 - mae: 4.8848\n",
            "Epoch 18/50\n",
            "80/80 [==============================] - 0s 1ms/step - loss: 35.4479 - mae: 4.5511\n",
            "Epoch 19/50\n",
            "80/80 [==============================] - 0s 1ms/step - loss: 43.0998 - mae: 4.9654\n",
            "Epoch 20/50\n",
            "80/80 [==============================] - 0s 1ms/step - loss: 81.7499 - mae: 7.4149\n",
            "Epoch 21/50\n",
            "80/80 [==============================] - 0s 1ms/step - loss: 43.4211 - mae: 5.2022\n",
            "Epoch 22/50\n",
            "80/80 [==============================] - 0s 1ms/step - loss: 32.1539 - mae: 4.6098\n",
            "Epoch 23/50\n",
            "80/80 [==============================] - 0s 1ms/step - loss: 30.7182 - mae: 4.3007\n",
            "Epoch 24/50\n",
            "80/80 [==============================] - 0s 1ms/step - loss: 47.8126 - mae: 5.5221\n",
            "Epoch 25/50\n",
            "80/80 [==============================] - 0s 1ms/step - loss: 40.4662 - mae: 4.9016\n",
            "Epoch 26/50\n",
            "80/80 [==============================] - 0s 1ms/step - loss: 48.4124 - mae: 5.3712\n",
            "Epoch 27/50\n",
            "80/80 [==============================] - 0s 1ms/step - loss: 49.4644 - mae: 5.2201\n",
            "Epoch 28/50\n",
            "80/80 [==============================] - 0s 1ms/step - loss: 29.4573 - mae: 4.2486\n",
            "Epoch 29/50\n",
            "80/80 [==============================] - 0s 1ms/step - loss: 41.1528 - mae: 4.9101\n",
            "Epoch 30/50\n",
            "80/80 [==============================] - 0s 991us/step - loss: 32.6574 - mae: 4.5111\n",
            "Epoch 31/50\n",
            "80/80 [==============================] - 0s 1ms/step - loss: 31.5148 - mae: 4.2571\n",
            "Epoch 32/50\n",
            "80/80 [==============================] - 0s 1ms/step - loss: 34.2811 - mae: 4.5711\n",
            "Epoch 33/50\n",
            "80/80 [==============================] - 0s 1ms/step - loss: 48.7370 - mae: 5.3076\n",
            "Epoch 34/50\n",
            "80/80 [==============================] - 0s 1ms/step - loss: 46.9186 - mae: 5.0030\n",
            "Epoch 35/50\n",
            "80/80 [==============================] - 0s 1ms/step - loss: 33.6713 - mae: 4.5548\n",
            "Epoch 36/50\n",
            "80/80 [==============================] - 0s 1ms/step - loss: 29.1070 - mae: 4.0557\n",
            "Epoch 37/50\n",
            "80/80 [==============================] - 0s 998us/step - loss: 34.8287 - mae: 4.6847\n",
            "Epoch 38/50\n",
            "80/80 [==============================] - 0s 1ms/step - loss: 28.8500 - mae: 4.1100\n",
            "Epoch 39/50\n",
            "80/80 [==============================] - 0s 1ms/step - loss: 37.6002 - mae: 4.9033\n",
            "Epoch 40/50\n",
            "80/80 [==============================] - 0s 1ms/step - loss: 43.6320 - mae: 5.2990\n",
            "Epoch 41/50\n",
            "80/80 [==============================] - 0s 1ms/step - loss: 35.7137 - mae: 4.5271\n",
            "Epoch 42/50\n",
            "80/80 [==============================] - 0s 1ms/step - loss: 29.7194 - mae: 4.2635\n",
            "Epoch 43/50\n",
            "80/80 [==============================] - 0s 1ms/step - loss: 31.7987 - mae: 4.3777\n",
            "Epoch 44/50\n",
            "80/80 [==============================] - 0s 1ms/step - loss: 27.0382 - mae: 4.1342\n",
            "Epoch 45/50\n",
            "80/80 [==============================] - 0s 1ms/step - loss: 42.4269 - mae: 4.6829\n",
            "Epoch 46/50\n",
            "80/80 [==============================] - 0s 1ms/step - loss: 35.9500 - mae: 4.6128\n",
            "Epoch 47/50\n",
            "80/80 [==============================] - 0s 1ms/step - loss: 38.6219 - mae: 4.4572\n",
            "Epoch 48/50\n",
            "80/80 [==============================] - 0s 1ms/step - loss: 33.0858 - mae: 4.4706\n",
            "Epoch 49/50\n",
            "80/80 [==============================] - 0s 1ms/step - loss: 55.9450 - mae: 5.7412\n",
            "Epoch 50/50\n",
            "80/80 [==============================] - 0s 1ms/step - loss: 27.7011 - mae: 4.0401\n"
          ],
          "name": "stdout"
        },
        {
          "output_type": "execute_result",
          "data": {
            "text/plain": [
              "<tensorflow.python.keras.callbacks.History at 0x7ff75db67f50>"
            ]
          },
          "metadata": {
            "tags": []
          },
          "execution_count": 229
        }
      ]
    },
    {
      "cell_type": "code",
      "metadata": {
        "colab": {
          "base_uri": "https://localhost:8080/"
        },
        "id": "l_q58B2RDMxg",
        "outputId": "c27c6b6e-8689-4c11-8761-070cbe926b86"
      },
      "source": [
        "test_loss, test_acc = model.evaluate(test_df, test_average_points)\n",
        "print('Test accuracy:', test_acc)"
      ],
      "execution_count": null,
      "outputs": [
        {
          "output_type": "stream",
          "text": [
            "2/2 [==============================] - 0s 5ms/step - loss: 20.8650 - mae: 3.7223\n",
            "Test accuracy: 3.7223353385925293\n"
          ],
          "name": "stdout"
        }
      ]
    },
    {
      "cell_type": "code",
      "metadata": {
        "id": "t2qIYJ6kVRUD"
      },
      "source": [
        "while True:\n",
        "  model = get_compiled_model()\n",
        "  model.fit(train_dataset, epochs=50)\n",
        "  test_loss, test_acc = model.evaluate(test_df, test_average_points)\n",
        "  print('Test accuracy:', test_acc)\n",
        "  if test_acc < 2:\n",
        "    break"
      ],
      "execution_count": null,
      "outputs": []
    },
    {
      "cell_type": "code",
      "metadata": {
        "id": "CkbI20ktDM2r"
      },
      "source": [
        "model.save('Newest_Accurate_RB_Model.h5')"
      ],
      "execution_count": null,
      "outputs": []
    }
  ]
}