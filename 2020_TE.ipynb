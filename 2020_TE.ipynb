{
  "nbformat": 4,
  "nbformat_minor": 0,
  "metadata": {
    "colab": {
      "name": "2020_TE",
      "provenance": []
    },
    "kernelspec": {
      "name": "python3",
      "display_name": "Python 3"
    },
    "language_info": {
      "name": "python"
    }
  },
  "cells": [
    {
      "cell_type": "code",
      "metadata": {
        "id": "o6g1J22xUSAE"
      },
      "source": [
        "import tensorflow as tf\n",
        "from tensorflow import keras\n",
        "import pandas as pd\n",
        "model = tf.keras.models.load_model('/content/Newest_Accurate_TE_Model.h5')"
      ],
      "execution_count": null,
      "outputs": []
    },
    {
      "cell_type": "code",
      "metadata": {
        "colab": {
          "base_uri": "https://localhost:8080/"
        },
        "id": "TuN7donUUegP",
        "outputId": "a2a7326b-528a-47a8-8dfc-22c1922b9eab"
      },
      "source": [
        "df = pd.read_excel('2020_TE_Data.xlsx')\n",
        "print(df['Player'])\n",
        "df = df.drop(['Player'], axis=1)\n",
        "df['5_x'] = df['5_x'].replace(',','',regex=True)\n",
        "df['4_y'] = df['4_y'].replace(',','',regex=True)\n",
        "df = df.astype(float)\n",
        "df.pop('Following_Year_PPG')\n",
        "print(df)\n",
        "x=1"
      ],
      "execution_count": null,
      "outputs": [
        {
          "output_type": "stream",
          "text": [
            "0       2020 travis kelce\n",
            "1      2020 darren waller\n",
            "2      2020 robert tonyan\n",
            "3       2020 logan thomas\n",
            "4       2020 tj hockenson\n",
            "5       2020 mark andrews\n",
            "6       2020 mike gesicki\n",
            "7     2020 rob gronkowski\n",
            "8          2020 noah fant\n",
            "9       2020 hayden hurst\n",
            "10    2020 dalton schultz\n",
            "11      2020 hunter henry\n",
            "12      2020 jimmy graham\n",
            "13        2020 eric ebron\n",
            "14       2020 evan engram\n",
            "15       2020 jonnu smith\n",
            "16      2020 tyler higbee\n",
            "17        2020 jared cook\n",
            "18     2020 george kittle\n",
            "19    2020 dallas goedert\n",
            "20     2020 austin hooper\n",
            "Name: Player, dtype: object\n",
            "     2_x    3_x    4_x     5_x   6_x   7_x  ...   4_y  5_y  6_y  7_y  8_y  9_y\n",
            "0   15.0  105.0  145.0  1416.0  13.5  45.0  ...   0.0  0.0  0.0  0.0  1.0  1.0\n",
            "1   16.0  107.0  145.0  1196.0  11.2  38.0  ...   0.0  0.0  0.0  0.0  2.0  2.0\n",
            "2   16.0   52.0   59.0   586.0  11.3  45.0  ...   0.0  0.0  0.0  0.0  0.0  0.0\n",
            "3   16.0   72.0  110.0   670.0   9.3  30.0  ...   5.0  1.7  3.0  0.0  0.0  0.0\n",
            "4   16.0   67.0  101.0   723.0  10.8  51.0  ...   0.0  0.0  0.0  0.0  1.0  1.0\n",
            "5   14.0   58.0   88.0   701.0  12.1  39.0  ...   0.0  0.0  0.0  0.0  2.0  0.0\n",
            "6   15.0   53.0   85.0   703.0  13.3  70.0  ...   0.0  0.0  0.0  0.0  0.0  0.0\n",
            "7   16.0   45.0   77.0   623.0  13.8  48.0  ...   0.0  0.0  0.0  0.0  1.0  0.0\n",
            "8   15.0   62.0   93.0   673.0  10.9  37.0  ...   0.0  0.0  0.0  0.0  0.0  0.0\n",
            "9   16.0   56.0   88.0   571.0  10.2  42.0  ...   0.0  0.0  0.0  0.0  0.0  0.0\n",
            "10  16.0   63.0   89.0   615.0   9.8  28.0  ...   0.0  0.0  0.0  0.0  1.0  1.0\n",
            "11  14.0   60.0   93.0   613.0  10.2  33.0  ...   0.0  0.0  0.0  0.0  0.0  0.0\n",
            "12  16.0   50.0   76.0   456.0   9.1  30.0  ...   0.0  0.0  0.0  0.0  1.0  0.0\n",
            "13  15.0   56.0   91.0   558.0  10.0  27.0  ...   0.0  0.0  0.0  0.0  1.0  1.0\n",
            "14  16.0   63.0  109.0   654.0  10.4  53.0  ...  26.0  4.3  9.0  1.0  1.0  1.0\n",
            "15  15.0   41.0   65.0   448.0  10.9  63.0  ...   4.0  2.0  3.0  1.0  0.0  0.0\n",
            "16  15.0   44.0   60.0   521.0  11.8  44.0  ...   1.0  1.0  1.0  0.0  0.0  0.0\n",
            "17  15.0   37.0   60.0   504.0  13.6  46.0  ...   0.0  0.0  0.0  0.0  1.0  1.0\n",
            "18   8.0   48.0   63.0   634.0  13.2  44.0  ...  17.0  8.5  9.0  0.0  0.0  0.0\n",
            "19  11.0   46.0   65.0   524.0  11.4  41.0  ...   0.0  0.0  0.0  0.0  0.0  0.0\n",
            "20  13.0   46.0   70.0   435.0   9.5  36.0  ...   0.0  0.0  0.0  0.0  0.0  0.0\n",
            "\n",
            "[21 rows x 15 columns]\n"
          ],
          "name": "stdout"
        }
      ]
    },
    {
      "cell_type": "code",
      "metadata": {
        "colab": {
          "base_uri": "https://localhost:8080/"
        },
        "id": "AcqutalvUeic",
        "outputId": "6c1668a0-113b-4a57-e0ad-b2b6419eee83"
      },
      "source": [
        "model.predict(df)\n",
        "result_df = pd.read_excel('2020_TE_Data.xlsx')\n",
        "for x in range(len(result_df)):\n",
        "  y = model.predict([df[x:x+1]])\n",
        "  result_df.loc[x,'Following_Year_PPG'] = y[0]\n",
        "print(result_df)\n",
        "result_df.to_excel('2020_TE_With_PPG.xlsx')"
      ],
      "execution_count": null,
      "outputs": [
        {
          "output_type": "stream",
          "text": [
            "                 Player  Following_Year_PPG  2_x  3_x  ...  6_y 7_y  8_y  9_y\n",
            "0     2020 travis kelce           20.840837   15  105  ...    0   0    1    1\n",
            "1    2020 darren waller           18.579998   16  107  ...    0   0    2    2\n",
            "2    2020 robert tonyan           12.845978   16   52  ...    0   0    0    0\n",
            "3     2020 logan thomas           14.049200   16   72  ...    3   0    0    0\n",
            "4     2020 tj hockenson           12.720666   16   67  ...    0   0    1    1\n",
            "5     2020 mark andrews           12.072840   14   58  ...    0   0    2    0\n",
            "6     2020 mike gesicki           12.448292   15   53  ...    0   0    0    0\n",
            "7   2020 rob gronkowski           11.634527   16   45  ...    0   0    1    0\n",
            "8        2020 noah fant           12.299048   15   62  ...    0   0    0    0\n",
            "9     2020 hayden hurst           11.502135   16   56  ...    0   0    0    0\n",
            "10  2020 dalton schultz           13.088762   16   63  ...    0   0    1    1\n",
            "11    2020 hunter henry           11.795403   14   60  ...    0   0    0    0\n",
            "12    2020 jimmy graham           11.127908   16   50  ...    0   0    1    0\n",
            "13      2020 eric ebron           11.825704   15   56  ...    0   0    1    1\n",
            "14     2020 evan engram           12.671722   16   63  ...    9   1    1    1\n",
            "15     2020 jonnu smith           10.044039   15   41  ...    3   1    0    0\n",
            "16    2020 tyler higbee           11.538140   15   44  ...    1   0    0    0\n",
            "17      2020 jared cook           10.576111   15   37  ...    0   0    1    1\n",
            "18   2020 george kittle           13.501391    8   48  ...    9   0    0    0\n",
            "19  2020 dallas goedert           10.148342   11   46  ...    0   0    0    0\n",
            "20   2020 austin hooper            9.927870   13   46  ...    0   0    0    0\n",
            "\n",
            "[21 rows x 17 columns]\n"
          ],
          "name": "stdout"
        }
      ]
    }
  ]
}